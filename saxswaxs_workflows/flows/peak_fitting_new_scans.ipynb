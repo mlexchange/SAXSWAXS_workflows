{
 "cells": [
  {
   "cell_type": "code",
   "execution_count": null,
   "metadata": {},
   "outputs": [],
   "source": [
    "import matplotlib.pyplot as plt\n",
    "import os\n",
    "from tiled.client import from_uri\n",
    "from reduction import *\n",
    "from conversions import *\n",
    "from curve_fitting import *\n",
    "from file_handling import read_reduction_tiled\n",
    "from pipeline import horizontal_cut_automatic_fit\n",
    "import numpy as np\n",
    "import pandas as pd\n",
    "from scipy.signal import find_peaks, peak_prominences, argrelmin\n",
    "from astropy.modeling import models"
   ]
  },
  {
   "cell_type": "markdown",
   "metadata": {},
   "source": [
    "# Definition of Constants"
   ]
  },
  {
   "cell_type": "code",
   "execution_count": null,
   "metadata": {},
   "outputs": [],
   "source": [
    "# Initialize the Tiled server\n",
    "TILED_URI = os.getenv(\"TILED_URI\")\n",
    "TILED_API_KEY = os.getenv(\"TILED_API_KEY\")\n",
    "\n",
    "tiled_client = from_uri(TILED_URI, api_key=TILED_API_KEY)\n",
    "TILED_BASE_URI = tiled_client.uri"
   ]
  },
  {
   "cell_type": "code",
   "execution_count": null,
   "metadata": {},
   "outputs": [],
   "source": [
    "# 2pi / (nanometer in real-space * conversion factor between nano meter and Angstrom)\n",
    "q_target = 2 * np.pi / (30) * 0.1\n",
    "print(\"Q-target\", q_target)"
   ]
  },
  {
   "cell_type": "code",
   "execution_count": null,
   "metadata": {},
   "outputs": [],
   "source": [
    "parameters_horizontal_2024_10_17 = {\n",
    "    \"input_uri_data\": \"\",\n",
    "    \"input_uri_mask\": \"processed/masks/2024_10_17_GISAXS_YW_inverted\",\n",
    "    \"beamcenter_x\": 691.416,\n",
    "    \"beamcenter_y\": 1280.79,\n",
    "    \"incident_angle\": 0.12,\n",
    "    \"sample_detector_dist\": 3569.32,\n",
    "    \"wavelength\": 1.2398,\n",
    "    \"pix_size\": 172,\n",
    "    \"cut_half_width\": 5,\n",
    "    \"cut_pos_y\": 1280 - 105,\n",
    "    \"x_min\": 691 - 250,\n",
    "    \"x_max\": 691 + 250,\n",
    "    \"output_unit\": \"q\",\n",
    "}\n",
    "parameters_horizontal_2024_10_23 = {\n",
    "    \"input_uri_data\": \"\",\n",
    "    \"input_uri_mask\": \"processed/masks/2024_10_17_GISAXS_YW_inverted\",\n",
    "    \"beamcenter_x\": 691.007,\n",
    "    \"beamcenter_y\": 1281.21,\n",
    "    \"incident_angle\": 0.12,\n",
    "    \"sample_detector_dist\": 3590.48,\n",
    "    \"wavelength\": 1.2398,\n",
    "    \"pix_size\": 172,\n",
    "    \"cut_half_width\": 5,\n",
    "    \"cut_pos_y\": 1176,\n",
    "    \"x_min\": 391,\n",
    "    \"x_max\": 991,\n",
    "    \"output_unit\": \"q\",\n",
    "}"
   ]
  },
  {
   "cell_type": "markdown",
   "metadata": {},
   "source": [
    "# Selection of a subnode in Tiled with several scans to process"
   ]
  },
  {
   "cell_type": "code",
   "execution_count": null,
   "metadata": {},
   "outputs": [],
   "source": [
    "experiment_root = \"raw/2024_10_23/New_Batch\"\n",
    "# experiment_root = \"raw/2024_10_16/GISAXS/34K_58K_static_data/\"\n",
    "# experiment_root = \"raw/2024_10_16/GISAXS/Randomized\"\n",
    "# experiment_root = \"raw/2024_10_16/GISAXS/34K_58K_static_data\"\n",
    "# experiment_root = \"raw/ALS-S2VP58k\"\n",
    "experiment_root_client = from_uri(\n",
    "    f\"{TILED_BASE_URI}/{experiment_root}\", api_key=TILED_API_KEY\n",
    ")\n",
    "scans = [\n",
    "    scan\n",
    "    for scan in experiment_root_client\n",
    "    if \"sfloat\" in scan and \"autoexpose\" not in scan\n",
    "]\n",
    "print(\"Number of scans in \", experiment_root, \": \", len(scans))\n",
    "print(\"\\n\".join(f\"{index}: {entry}\" for index, entry in enumerate(scans)))"
   ]
  },
  {
   "cell_type": "markdown",
   "metadata": {},
   "source": [
    "# Step by Step Processing for a single scan"
   ]
  },
  {
   "cell_type": "code",
   "execution_count": null,
   "metadata": {},
   "outputs": [],
   "source": [
    "selected_scan_id = 0\n",
    "selected_scan_name = scans[selected_scan_id]\n",
    "input_uri_data = experiment_root_client[selected_scan_name].uri\n",
    "input_uri_data = input_uri_data.replace(TILED_BASE_URI, \"\")\n",
    "print(input_uri_data)\n",
    "parameters_horizontal_2024_10_23[\"input_uri_data\"] = input_uri_data\n",
    "horizontal_cut_automatic_fit(**parameters_horizontal_2024_10_23)"
   ]
  },
  {
   "cell_type": "code",
   "execution_count": null,
   "metadata": {},
   "outputs": [],
   "source": [
    "output_uri = input_uri_data.replace(\"raw\", \"processed\")\n",
    "parts = output_uri.split(\"/\")\n",
    "reduced_uri = f\"{output_uri}/{parts[-1]}_horizontal-cut\"\n",
    "peak_uri = f\"{output_uri}/{parts[-1]}_fitted-peaks\"\n",
    "print(reduced_uri)\n",
    "fitted_peaks = from_uri(f\"{TILED_BASE_URI}/{peak_uri}\", api_key=TILED_API_KEY)"
   ]
  },
  {
   "cell_type": "code",
   "execution_count": null,
   "metadata": {},
   "outputs": [],
   "source": [
    "df = fitted_peaks.read()\n",
    "peak_means = df[\"x\"].values.tolist()\n",
    "peak_amplitudes = df[\"y\"].values.tolist()\n",
    "peak_fwhm = df[\"fwhm\"].values.tolist()\n",
    "peak_stddevs = [fwhm / (2 * math.sqrt(2 * math.log(2))) for fwhm in peak_fwhm]\n",
    "baseline_removal = \"zhang\"\n",
    "fit_range_min = 0.005\n",
    "fit_range_max = 0.035\n",
    "\n",
    "q, intensity = read_reduction_tiled(\n",
    "    reduced_uri,\n",
    "    fit_range=[fit_range_min, fit_range_max],\n",
    "    baseline_removal=None,\n",
    ")\n",
    "# New fit range\n",
    "if baseline_removal == \"linear\":\n",
    "    first_inflection_point = argrelmin(intensity)[0]\n",
    "    print(\"First inflection point\", q[first_inflection_point[0]])\n",
    "    fit_range_min = q[first_inflection_point[0]]\n",
    "q_without_baseline, intensity_without_baseline = read_reduction_tiled(\n",
    "    reduced_uri,\n",
    "    fit_range=[fit_range_min, fit_range_max],\n",
    "    baseline_removal=baseline_removal,\n",
    ")\n",
    "\n",
    "individual_models = []\n",
    "for ii, (mean, amplitude, fwhm) in enumerate(\n",
    "    zip(peak_means, peak_amplitudes, peak_fwhm)\n",
    "):\n",
    "    stddev = fwhm / (2 * math.sqrt(2 * math.log(2)))\n",
    "    print(\"Peak position\", mean, amplitude, \"Full-width-half-max\", fwhm)\n",
    "    if ii == 0:\n",
    "        sum_models = models.Gaussian1D(amplitude=amplitude, mean=mean, stddev=stddev)\n",
    "    else:\n",
    "        g = models.Gaussian1D(amplitude=amplitude, mean=mean, stddev=stddev)\n",
    "        individual_models.append(g)\n",
    "        sum_models += g\n",
    "fitted_intensity = sum_models(q)"
   ]
  },
  {
   "cell_type": "code",
   "execution_count": null,
   "metadata": {},
   "outputs": [],
   "source": [
    "plt.figure()\n",
    "plt.plot(q, intensity, label=\"\")\n",
    "plt.plot(q_without_baseline, intensity_without_baseline, label=\"Baseline Removed\")\n",
    "scan_name = reduced_uri.split(\"/\")[-1]\n",
    "plt.title(reduced_uri.split(\"/\")[-1])\n",
    "plt.plot(q, fitted_intensity)\n",
    "intensity_at_closest_q = fitted_intensity[np.argmin(abs(q - peak_means[1]))]\n",
    "plt.vlines(\n",
    "    x=peak_means[1],\n",
    "    ymin=intensity_at_closest_q - peak_amplitudes[1] / 2,\n",
    "    ymax=intensity_at_closest_q,\n",
    "    color=\"red\",\n",
    ")\n",
    "# Plot the full-width at half-maximum\n",
    "plt.hlines(\n",
    "    y=intensity_at_closest_q - peak_amplitudes[1] / 2,\n",
    "    xmin=peak_means[1] - peak_fwhm[1] / 2,\n",
    "    xmax=peak_means[1] + peak_fwhm[1] / 2,\n",
    "    color=\"red\",\n",
    "    linestyle=\"--\",\n",
    ")\n",
    "plt.annotate(\n",
    "    f\"Peak Position: {peak_means[1]:.5}\",\n",
    "    xytext=[peak_means[1], np.max(intensity)],\n",
    "    xy=[peak_means[1], peak_amplitudes[1]],\n",
    "    arrowprops=dict(arrowstyle=\"->\"),\n",
    ")\n",
    "plt.annotate(\n",
    "    f\"FWHM: {peak_fwhm[1]:.7}\",\n",
    "    xy=[peak_means[1], intensity_at_closest_q - peak_amplitudes[1] / 1.5],\n",
    ")\n",
    "plt.savefig(f\"plots/{scan_name}.png\")"
   ]
  },
  {
   "cell_type": "code",
   "execution_count": null,
   "metadata": {},
   "outputs": [],
   "source": [
    "fit_range_min = max(0, q_target - 0.015)\n",
    "fit_range_max = q_target + 0.015\n",
    "baseline_removal = \"zhang\"\n",
    "# baseline_removal = None\n",
    "automatic_peak_fit_tiled(\n",
    "    input_uri_raw=reduced_uri,\n",
    "    reduction_type=\"horizontal-cut\",\n",
    "    fit_range=[fit_range_min, fit_range_max],\n",
    "    baseline_removal=baseline_removal,\n",
    ")"
   ]
  },
  {
   "cell_type": "markdown",
   "metadata": {},
   "source": []
  },
  {
   "cell_type": "markdown",
   "metadata": {},
   "source": [
    "# Iteration over all scans in the selected sub node"
   ]
  },
  {
   "cell_type": "code",
   "execution_count": null,
   "metadata": {},
   "outputs": [],
   "source": [
    "for selected_scan_id in range(len(scans)):\n",
    "    selected_scan_name = scans[selected_scan_id]\n",
    "    input_uri_data = experiment_root_client[selected_scan_name].uri\n",
    "    input_uri_data = input_uri_data.replace(TILED_BASE_URI, \"\")\n",
    "    print(input_uri_data)\n",
    "    if \"10_23\" in input_uri_data:\n",
    "        parameters_horizontal_2024_10_23[\"input_uri_data\"] = input_uri_data\n",
    "        horizontal_cut_automatic_fit(**parameters_horizontal_2024_10_23)\n",
    "    else:\n",
    "        parameters_horizontal_2024_10_17[\"input_uri_data\"] = input_uri_data\n",
    "        horizontal_cut_automatic_fit(**parameters_horizontal_2024_10_17)\n",
    "\n",
    "    output_uri = input_uri_data.replace(\"raw\", \"processed\")\n",
    "    parts = output_uri.split(\"/\")\n",
    "    reduced_uri = f\"{output_uri}/{parts[-1]}_horizontal-cut\"\n",
    "    peak_uri = f\"{output_uri}/{parts[-1]}_fitted-peaks\"\n",
    "    print(reduced_uri)\n",
    "    fitted_peaks = from_uri(f\"{TILED_BASE_URI}/{peak_uri}\", api_key=TILED_API_KEY)\n",
    "\n",
    "    df = fitted_peaks.read()\n",
    "    peak_means = df[\"x\"].values.tolist()\n",
    "    peak_amplitudes = df[\"y\"].values.tolist()\n",
    "    peak_fwhm = df[\"fwhm\"].values.tolist()\n",
    "    peak_stddevs = [fwhm / (2 * math.sqrt(2 * math.log(2))) for fwhm in peak_fwhm]\n",
    "    baseline_removal = \"zhang\"\n",
    "    fit_range_min = 0.005\n",
    "    fit_range_max = 0.035\n",
    "\n",
    "    q, intensity = read_reduction_tiled(\n",
    "        reduced_uri,\n",
    "        fit_range=[fit_range_min, fit_range_max],\n",
    "        baseline_removal=None,\n",
    "    )\n",
    "    # New fit range\n",
    "    if baseline_removal == \"linear\":\n",
    "        first_inflection_point = argrelmin(intensity)[0]\n",
    "        print(\"First inflection point\", q[first_inflection_point[0]])\n",
    "        fit_range_min = q[first_inflection_point[0]]\n",
    "    q_without_baseline, intensity_without_baseline = read_reduction_tiled(\n",
    "        reduced_uri,\n",
    "        fit_range=[fit_range_min, fit_range_max],\n",
    "        baseline_removal=baseline_removal,\n",
    "    )\n",
    "\n",
    "    individual_models = []\n",
    "    for ii, (mean, amplitude, fwhm) in enumerate(\n",
    "        zip(peak_means, peak_amplitudes, peak_fwhm)\n",
    "    ):\n",
    "        stddev = fwhm / (2 * math.sqrt(2 * math.log(2)))\n",
    "        print(\"Peak position\", mean, amplitude, \"Full-width-half-max\", fwhm)\n",
    "        if ii == 0:\n",
    "            sum_models = models.Gaussian1D(\n",
    "                amplitude=amplitude, mean=mean, stddev=stddev\n",
    "            )\n",
    "        else:\n",
    "            g = models.Gaussian1D(amplitude=amplitude, mean=mean, stddev=stddev)\n",
    "            individual_models.append(g)\n",
    "            sum_models += g\n",
    "    fitted_intensity = sum_models(q)\n",
    "\n",
    "    plt.figure()\n",
    "    plt.plot(q, intensity, label=\"\")\n",
    "    plt.plot(q_without_baseline, intensity_without_baseline, label=\"Baseline Removed\")\n",
    "    scan_name = reduced_uri.split(\"/\")[-1]\n",
    "    plt.title(reduced_uri.split(\"/\")[-1])\n",
    "    plt.plot(q, fitted_intensity)\n",
    "    intensity_at_closest_q = fitted_intensity[np.argmin(abs(q - peak_means[1]))]\n",
    "    plt.vlines(\n",
    "        x=peak_means[1],\n",
    "        ymin=intensity_at_closest_q - peak_amplitudes[1] / 2,\n",
    "        ymax=intensity_at_closest_q,\n",
    "        color=\"red\",\n",
    "    )\n",
    "    # Plot the full-width at half-maximum\n",
    "    plt.hlines(\n",
    "        y=intensity_at_closest_q - peak_amplitudes[1] / 2,\n",
    "        xmin=peak_means[1] - peak_fwhm[1] / 2,\n",
    "        xmax=peak_means[1] + peak_fwhm[1] / 2,\n",
    "        color=\"red\",\n",
    "        linestyle=\"--\",\n",
    "    )\n",
    "    plt.annotate(\n",
    "        f\"Peak Position: {peak_means[1]:.5}\",\n",
    "        xytext=[peak_means[1], np.max(intensity)],\n",
    "        xy=[peak_means[1], peak_amplitudes[1]],\n",
    "        arrowprops=dict(arrowstyle=\"->\"),\n",
    "    )\n",
    "    plt.annotate(\n",
    "        f\"FWHM: {peak_fwhm[1]:.7}\",\n",
    "        xy=[peak_means[1], intensity_at_closest_q - peak_amplitudes[1] / 1.5],\n",
    "    )\n",
    "    plt.savefig(f\"plots/{scan_name}.png\")"
   ]
  },
  {
   "cell_type": "markdown",
   "metadata": {},
   "source": [
    "# Adding newly processed samples and their peak information to the experiment summary"
   ]
  },
  {
   "cell_type": "code",
   "execution_count": null,
   "metadata": {},
   "outputs": [],
   "source": [
    "from tiled.utils import path_from_uri\n",
    "\n",
    "client = from_uri(TILED_URI, api_key=TILED_API_KEY, include_data_sources=True)\n",
    "container_client = client[\"processed\"][\"2024_10_17-23_58k-34k_mixture\"]\n",
    "csv_client = container_client[\"2024_10_17-23_58k-34k_mixture\"]\n",
    "csv_file_local_uri = path_from_uri(\n",
    "    csv_client.data_sources()[0][\"assets\"][0][\"data_uri\"]\n",
    ")\n",
    "df_original = pd.read_csv(csv_file_local_uri)\n",
    "# data.to_csv(csv_file_local_uri, index=False)\n",
    "print(df_original.columns)"
   ]
  },
  {
   "cell_type": "code",
   "execution_count": null,
   "metadata": {},
   "outputs": [],
   "source": [
    "experiment_root = \"processed/2024_10_23/New_Batch\"\n",
    "experiment_root_client = from_uri(\n",
    "    f\"{TILED_BASE_URI}/{experiment_root}\", api_key=TILED_API_KEY\n",
    ")\n",
    "df_new_samples = pd.DataFrame(columns=df_original.columns)\n",
    "for scan_key in experiment_root_client.keys():\n",
    "    scan_client = experiment_root_client[scan_key]\n",
    "    for reduction_key in scan_client:\n",
    "        if \"peak\" in reduction_key:\n",
    "            try:\n",
    "                peak_info = scan_client[reduction_key].read()\n",
    "                peak_position = peak_info[\"x\"].values[1]\n",
    "                fwhm = peak_info[\"fwhm\"].values[1]\n",
    "                print(fwhm)\n",
    "                new_row = pd.DataFrame(\n",
    "                    {\n",
    "                        \"Scan Key\": [scan_key],\n",
    "                        \"Peak Position\": [peak_position],\n",
    "                        \"Fwhm\": [fwhm],\n",
    "                        \"Domain Spacing (nm)\": [0.1 * 2 * np.pi / peak_position],\n",
    "                        \"Grain Size\": [0.1 * 2 * np.pi / fwhm],\n",
    "                    }\n",
    "                )\n",
    "                df_new_samples = pd.concat([df_new_samples, new_row], ignore_index=True)\n",
    "            except Exception as e:\n",
    "                print(e)\n",
    "                pass"
   ]
  },
  {
   "cell_type": "code",
   "execution_count": null,
   "metadata": {},
   "outputs": [],
   "source": [
    "df_new_samples"
   ]
  },
  {
   "cell_type": "code",
   "execution_count": null,
   "metadata": {},
   "outputs": [],
   "source": [
    "df_combined = pd.concat([df_original, df_new_samples], ignore_index=True)"
   ]
  },
  {
   "cell_type": "code",
   "execution_count": null,
   "metadata": {},
   "outputs": [],
   "source": [
    "df_combined.to_csv(csv_file_local_uri)"
   ]
  },
  {
   "cell_type": "markdown",
   "metadata": {},
   "source": [
    "# Testing of peak fitting by itself for a selected scan"
   ]
  },
  {
   "cell_type": "code",
   "execution_count": null,
   "metadata": {},
   "outputs": [],
   "source": [
    "selected_scan_id = 0\n",
    "selected_scan_name = scans[selected_scan_id]\n",
    "reduced_uri = experiment_root_client[\n",
    "    f\"{selected_scan_name}/{selected_scan_name}_horizontal-cut\"\n",
    "].uri\n",
    "reduced_uri = reduced_uri.replace(TILED_BASE_URI, \"\")\n",
    "\n",
    "fit_range_min = max(0, q_target - 0.015)\n",
    "fit_range_max = q_target + 0.015\n",
    "q, intensity = read_reduction_tiled(\n",
    "    reduced_uri,\n",
    "    fit_range=[fit_range_min, fit_range_max],\n",
    "    baseline_removal=None,\n",
    ")\n",
    "plt.plot(q, intensity)\n",
    "first_inflection_point = argrelmin(intensity)[0]\n",
    "print(\"First inflection point\", q[first_inflection_point[0]])\n",
    "fit_range_min = q[first_inflection_point[0]]\n",
    "plt.axvline(fit_range_min, color=\"red\")\n",
    "peak_indices = find_peaks(intensity)[0]\n",
    "prominences = peak_prominences(intensity, peak_indices)\n",
    "print(\"Peak indices\", peak_indices)\n",
    "print(\"Prominences\", prominences)\n",
    "# Edit this peak number\n",
    "peak_number = np.argmax(prominences[0])\n",
    "peak_location = q[peak_indices[peak_number]]\n",
    "print(\"Peak location\", peak_location)\n",
    "plt.axvline(peak_location, color=\"red\")\n",
    "baseline_removal = \"modpoly\"\n",
    "q_subset, intensity_subset = read_reduction_tiled(\n",
    "    reduced_uri,\n",
    "    fit_range=[fit_range_min, fit_range_max],\n",
    "    baseline_removal=baseline_removal,\n",
    ")\n",
    "plt.plot(q_subset, intensity_subset, label=\"Baseline removed\")"
   ]
  },
  {
   "cell_type": "code",
   "execution_count": null,
   "metadata": {},
   "outputs": [],
   "source": [
    "parameters_fitting = {\n",
    "    \"input_uri_reduction\": reduced_uri,\n",
    "    \"x_peaks\": [fit_range_min, peak_location],\n",
    "    \"y_peaks\": [\n",
    "        intensity[np.argmin(abs(q - fit_range_min))],\n",
    "        intensity[np.argmin(abs(q - peak_location))],\n",
    "    ],\n",
    "    \"stddevs\": [0.00001, 0.003],\n",
    "    \"fwhm_Gs\": [0.001, 0.001],\n",
    "    \"fwhm_Ls\": [0.001, 0.001],\n",
    "    \"peak_shape\": \"gaussian\",\n",
    "    \"fit_range\": [fit_range_min, fit_range_max],\n",
    "    \"baseline_removal\": baseline_removal,\n",
    "}\n",
    "print(parameters_fitting)\n",
    "simple_peak_fit_tiled(**parameters_fitting)"
   ]
  }
 ],
 "metadata": {
  "kernelspec": {
   "display_name": "saxswaxs-workflows-env",
   "language": "python",
   "name": "python3"
  },
  "language_info": {
   "codemirror_mode": {
    "name": "ipython",
    "version": 3
   },
   "file_extension": ".py",
   "mimetype": "text/x-python",
   "name": "python",
   "nbconvert_exporter": "python",
   "pygments_lexer": "ipython3",
   "version": "3.9.6"
  }
 },
 "nbformat": 4,
 "nbformat_minor": 2
}
